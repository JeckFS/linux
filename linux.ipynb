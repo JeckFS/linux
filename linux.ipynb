{
 "cells": [
  {
   "cell_type": "markdown",
   "metadata": {},
   "source": [
    "# vim的使用"
   ]
  },
  {
   "cell_type": "markdown",
   "metadata": {},
   "source": [
    "## 移动光标\n",
    "|快捷键|含义|\n",
    "|:---:|:---:|\n",
    "|Ctrl+d|向下移动半页|\n",
    "|Ctrl+u|向上移动半页|\n",
    "|n<空格键>|向后移动n个字符|\n",
    "|H|光标移动到屏幕显示范围第一行的第一个字符|\n",
    "|M|光标移动到屏幕显示范围的中间一行的第一个字符|\n",
    "|L|光标移动到屏幕显示范围的最后一行第一个字符|\n",
    "|G|移动到文件的最后一个字符|\n",
    "|nG|移动到文件的第n行|\n",
    "|gg|移动到文件的第一行的第一个字符|\n",
    "|n<回车键>|从当前位置向下移动n行|\n",
    "\n"
   ]
  },
  {
   "cell_type": "markdown",
   "metadata": {},
   "source": [
    "## 搜寻与取代\n",
    "|快捷键|含义|\n",
    "|:---:|:---:|\n",
    "|/word|从当前光标开始向后搜寻出现的串“word”|\n",
    "|?word|从当前光标开始向前搜寻出现的串“word”|\n",
    "|n|移动到下一个‘word’|\n",
    "|N|移动到上一个‘word’|\n",
    "|:n1,n2s/word1/word2/g|将第n1行到第n2行的串word1替换为word2|\n",
    "|:n1,\\$s/word1/word2/g|从第n1行替换到最后一行|\n",
    "|:n1,\\$s/word1/word2/gc|替换时询问用户是否取代|\n",
    "\n"
   ]
  },
  {
   "cell_type": "markdown",
   "metadata": {},
   "source": [
    "## 删除\n",
    "\n",
    "|快捷键|含义|\n",
    "|:---:|:---:|\n",
    "|nx|向后删除连续的n个字符|\n",
    "|dd|删除当前行|\n",
    "|ndd|删除从光标向下n行|\n",
    "|d1G|删除光标所在行到第一行|\n",
    "|dG|删除光标所在行到最后一行|\n",
    "|d$|删除光标位置到行末字符|\n",
    "|d0|删除光标位置到行首字符|"
   ]
  },
  {
   "cell_type": "markdown",
   "metadata": {},
   "source": [
    "## 复制\n",
    "|快捷键|含义|\n",
    "|:---:|:---:|\n",
    "|yy|复制光标所在行|\n",
    "|nyy|从光标所在行起，向下复制n行|\n",
    "|y1G|复制光标所在行到第一行|\n",
    "|yG|复制光标所在行到最后一行|\n",
    "|y$|复制光标位置到行尾字符|\n",
    "|y0|复制光标位置到行收字符|\n"
   ]
  },
  {
   "cell_type": "markdown",
   "metadata": {},
   "source": [
    "## 其他\n",
    "|快捷键|含义|\n",
    "|:---:|:---:|\n",
    "|p|粘贴|\n",
    "|J|合并光标行与下一行|\n",
    "|u|撤销上一步|\n",
    "|.|重复上一步|\n"
   ]
  },
  {
   "cell_type": "markdown",
   "metadata": {},
   "source": [
    "## 编辑模式\n",
    "|快捷键|含义|\n",
    "|:---:|:---|\n",
    "|i, I|insert <br>i:光标位置<br>I:光标所在行非空格处|\n",
    "|a, A|append<br> a:光标位置的下一个字符位置<br>A:光标所在行行末位置|\n",
    "|o, O|插入新行<br>o:光标所在行的下一行<br>O:光标所在行的前一行|\n",
    "|r, R|replace<br>r:取代当前字符<br>R:从当前位置一直取代|\n"
   ]
  },
  {
   "cell_type": "markdown",
   "metadata": {},
   "source": [
    "## 关于文件的存取\n",
    "|快捷键|含义|\n",
    "|:---:|:---|\n",
    "|:w \\[filename\\]|另存为|\n",
    "|:r \\[filename\\]|将filename内容拷贝到光标所在行的后面|\n",
    "|:n1,n2 w\\[filename\\]|将n1到n2行存储为filename文件|"
   ]
  },
  {
   "cell_type": "markdown",
   "metadata": {},
   "source": [
    "## 其他\n",
    "|快捷键|含义|\n",
    "|:---:|:---|\n",
    "|:! command|暂时离开vi，执行command，按下ENTER后回到vi文档|"
   ]
  },
  {
   "cell_type": "markdown",
   "metadata": {},
   "source": [
    "## 区块选择\n",
    "|快捷键|含义|\n",
    "|:---:|:---|\n",
    "|v|跟随光标逐字符选择|\n",
    "|V|选择光标所在行|\n",
    "|Ctrl+v|区块选择|\n",
    "|y|复制|\n",
    "|d|删除|\n",
    "|p|粘贴|\n"
   ]
  },
  {
   "cell_type": "markdown",
   "metadata": {},
   "source": [
    "## 多文件编辑\n",
    "以vi file1 file2...开启多个文件，使用一下方式可以快速在这多个文件中切换。\n",
    "\n",
    "|快捷键|含义|\n",
    "|:---:|:---|\n",
    "|:n|编辑下一个文件|\n",
    "|:N|编辑上一个文件|\n",
    "|:files|列出所有开启的文件|\n"
   ]
  },
  {
   "cell_type": "markdown",
   "metadata": {},
   "source": [
    "## 多窗口\n",
    "|快捷键|含义|\n",
    "|:---:|:---|\n",
    "|:sp \\[filename\\]|开启新窗口，filename为文件名|\n",
    "|Ctrl+w+↑|编辑上一个窗口|\n",
    "|ctrl+w+↓|编辑下一个窗口|\n"
   ]
  }
 ],
 "metadata": {
  "kernelspec": {
   "display_name": "Python 3",
   "language": "python",
   "name": "python3"
  },
  "language_info": {
   "codemirror_mode": {
    "name": "ipython",
    "version": 3
   },
   "file_extension": ".py",
   "mimetype": "text/x-python",
   "name": "python",
   "nbconvert_exporter": "python",
   "pygments_lexer": "ipython3",
   "version": "3.6.8"
  },
  "toc": {
   "base_numbering": 1,
   "nav_menu": {},
   "number_sections": true,
   "sideBar": true,
   "skip_h1_title": false,
   "title_cell": "Table of Contents",
   "title_sidebar": "Contents",
   "toc_cell": false,
   "toc_position": {},
   "toc_section_display": true,
   "toc_window_display": false
  }
 },
 "nbformat": 4,
 "nbformat_minor": 2
}
